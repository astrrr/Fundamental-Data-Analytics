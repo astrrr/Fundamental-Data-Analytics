{
  "nbformat": 4,
  "nbformat_minor": 0,
  "metadata": {
    "colab": {
      "name": "fundamental_data_analytics.ipynb",
      "provenance": [],
      "collapsed_sections": [],
      "machine_shape": "hm",
      "mount_file_id": "1BYI-rCKarDvobyeDyIKIrMJHHjIKyMDu",
      "authorship_tag": "ABX9TyNNcY69t7kAeAtYr8dxA/pj",
      "include_colab_link": true
    },
    "kernelspec": {
      "name": "python3",
      "display_name": "Python 3"
    },
    "language_info": {
      "name": "python"
    }
  },
  "cells": [
    {
      "cell_type": "markdown",
      "metadata": {
        "id": "view-in-github",
        "colab_type": "text"
      },
      "source": [
        "<a href=\"https://colab.research.google.com/github/astrrr/Fundamental-Data-Analytics/blob/main/fundamental_data_analytics.ipynb\" target=\"_parent\"><img src=\"https://colab.research.google.com/assets/colab-badge.svg\" alt=\"Open In Colab\"/></a>"
      ]
    },
    {
      "cell_type": "code",
      "execution_count": 2,
      "metadata": {
        "id": "1sJLj5sTIBWg"
      },
      "outputs": [],
      "source": [
        "import pandas as pd\n",
        "import numpy as np\n",
        "import seaborn as sns\n",
        "import matplotlib.pyplot as plt\n",
        "import matplotlib.mlab as mlab"
      ]
    },
    {
      "cell_type": "markdown",
      "source": [
        "Gold Price: Lodon Fixing\n",
        "https://data.nasdaq.com/data/LBMA/GOLD-gold-price-london-fixing "
      ],
      "metadata": {
        "id": "FJNDmCzpXqoA"
      }
    },
    {
      "cell_type": "code",
      "source": [
        "#import data\n",
        "df =  pd.read_csv('/content/drive/MyDrive/fundamental_data_analytics/LBMA-GOLD.csv')"
      ],
      "metadata": {
        "id": "E4qIfuJzSqOe"
      },
      "execution_count": 3,
      "outputs": []
    },
    {
      "cell_type": "code",
      "source": [
        "df"
      ],
      "metadata": {
        "colab": {
          "base_uri": "https://localhost:8080/",
          "height": 424
        },
        "id": "7mvLBey4TASq",
        "outputId": "60009978-3cd3-4312-f80d-518f5e518559"
      },
      "execution_count": 4,
      "outputs": [
        {
          "output_type": "execute_result",
          "data": {
            "text/html": [
              "\n",
              "  <div id=\"df-159fc1d9-2fb7-49ac-8030-cfead8f669f6\">\n",
              "    <div class=\"colab-df-container\">\n",
              "      <div>\n",
              "<style scoped>\n",
              "    .dataframe tbody tr th:only-of-type {\n",
              "        vertical-align: middle;\n",
              "    }\n",
              "\n",
              "    .dataframe tbody tr th {\n",
              "        vertical-align: top;\n",
              "    }\n",
              "\n",
              "    .dataframe thead th {\n",
              "        text-align: right;\n",
              "    }\n",
              "</style>\n",
              "<table border=\"1\" class=\"dataframe\">\n",
              "  <thead>\n",
              "    <tr style=\"text-align: right;\">\n",
              "      <th></th>\n",
              "      <th>Date</th>\n",
              "      <th>USD (AM)</th>\n",
              "      <th>USD (PM)</th>\n",
              "      <th>GBP (AM)</th>\n",
              "      <th>GBP (PM)</th>\n",
              "      <th>EURO (AM)</th>\n",
              "      <th>EURO (PM)</th>\n",
              "    </tr>\n",
              "  </thead>\n",
              "  <tbody>\n",
              "    <tr>\n",
              "      <th>0</th>\n",
              "      <td>2021-12-29</td>\n",
              "      <td>1796.35</td>\n",
              "      <td>1794.25</td>\n",
              "      <td>1338.820</td>\n",
              "      <td>1331.33</td>\n",
              "      <td>1591.93</td>\n",
              "      <td>1581.27</td>\n",
              "    </tr>\n",
              "    <tr>\n",
              "      <th>1</th>\n",
              "      <td>2021-12-23</td>\n",
              "      <td>1805.55</td>\n",
              "      <td>1805.20</td>\n",
              "      <td>1345.320</td>\n",
              "      <td>1346.50</td>\n",
              "      <td>1594.12</td>\n",
              "      <td>1595.98</td>\n",
              "    </tr>\n",
              "    <tr>\n",
              "      <th>2</th>\n",
              "      <td>2021-12-22</td>\n",
              "      <td>1789.90</td>\n",
              "      <td>1792.80</td>\n",
              "      <td>1345.650</td>\n",
              "      <td>1344.78</td>\n",
              "      <td>1584.96</td>\n",
              "      <td>1584.66</td>\n",
              "    </tr>\n",
              "    <tr>\n",
              "      <th>3</th>\n",
              "      <td>2021-12-21</td>\n",
              "      <td>1795.85</td>\n",
              "      <td>1793.75</td>\n",
              "      <td>1355.510</td>\n",
              "      <td>1354.64</td>\n",
              "      <td>1590.40</td>\n",
              "      <td>1591.42</td>\n",
              "    </tr>\n",
              "    <tr>\n",
              "      <th>4</th>\n",
              "      <td>2021-12-20</td>\n",
              "      <td>1797.40</td>\n",
              "      <td>1796.30</td>\n",
              "      <td>1362.070</td>\n",
              "      <td>1358.54</td>\n",
              "      <td>1595.73</td>\n",
              "      <td>1590.26</td>\n",
              "    </tr>\n",
              "    <tr>\n",
              "      <th>...</th>\n",
              "      <td>...</td>\n",
              "      <td>...</td>\n",
              "      <td>...</td>\n",
              "      <td>...</td>\n",
              "      <td>...</td>\n",
              "      <td>...</td>\n",
              "      <td>...</td>\n",
              "    </tr>\n",
              "    <tr>\n",
              "      <th>13642</th>\n",
              "      <td>1968-01-08</td>\n",
              "      <td>35.14</td>\n",
              "      <td>NaN</td>\n",
              "      <td>14.586</td>\n",
              "      <td>NaN</td>\n",
              "      <td>NaN</td>\n",
              "      <td>NaN</td>\n",
              "    </tr>\n",
              "    <tr>\n",
              "      <th>13643</th>\n",
              "      <td>1968-01-05</td>\n",
              "      <td>35.14</td>\n",
              "      <td>NaN</td>\n",
              "      <td>14.597</td>\n",
              "      <td>NaN</td>\n",
              "      <td>NaN</td>\n",
              "      <td>NaN</td>\n",
              "    </tr>\n",
              "    <tr>\n",
              "      <th>13644</th>\n",
              "      <td>1968-01-04</td>\n",
              "      <td>35.14</td>\n",
              "      <td>NaN</td>\n",
              "      <td>14.603</td>\n",
              "      <td>NaN</td>\n",
              "      <td>NaN</td>\n",
              "      <td>NaN</td>\n",
              "    </tr>\n",
              "    <tr>\n",
              "      <th>13645</th>\n",
              "      <td>1968-01-03</td>\n",
              "      <td>35.16</td>\n",
              "      <td>NaN</td>\n",
              "      <td>14.617</td>\n",
              "      <td>NaN</td>\n",
              "      <td>NaN</td>\n",
              "      <td>NaN</td>\n",
              "    </tr>\n",
              "    <tr>\n",
              "      <th>13646</th>\n",
              "      <td>1968-01-02</td>\n",
              "      <td>35.18</td>\n",
              "      <td>NaN</td>\n",
              "      <td>14.641</td>\n",
              "      <td>NaN</td>\n",
              "      <td>NaN</td>\n",
              "      <td>NaN</td>\n",
              "    </tr>\n",
              "  </tbody>\n",
              "</table>\n",
              "<p>13647 rows × 7 columns</p>\n",
              "</div>\n",
              "      <button class=\"colab-df-convert\" onclick=\"convertToInteractive('df-159fc1d9-2fb7-49ac-8030-cfead8f669f6')\"\n",
              "              title=\"Convert this dataframe to an interactive table.\"\n",
              "              style=\"display:none;\">\n",
              "        \n",
              "  <svg xmlns=\"http://www.w3.org/2000/svg\" height=\"24px\"viewBox=\"0 0 24 24\"\n",
              "       width=\"24px\">\n",
              "    <path d=\"M0 0h24v24H0V0z\" fill=\"none\"/>\n",
              "    <path d=\"M18.56 5.44l.94 2.06.94-2.06 2.06-.94-2.06-.94-.94-2.06-.94 2.06-2.06.94zm-11 1L8.5 8.5l.94-2.06 2.06-.94-2.06-.94L8.5 2.5l-.94 2.06-2.06.94zm10 10l.94 2.06.94-2.06 2.06-.94-2.06-.94-.94-2.06-.94 2.06-2.06.94z\"/><path d=\"M17.41 7.96l-1.37-1.37c-.4-.4-.92-.59-1.43-.59-.52 0-1.04.2-1.43.59L10.3 9.45l-7.72 7.72c-.78.78-.78 2.05 0 2.83L4 21.41c.39.39.9.59 1.41.59.51 0 1.02-.2 1.41-.59l7.78-7.78 2.81-2.81c.8-.78.8-2.07 0-2.86zM5.41 20L4 18.59l7.72-7.72 1.47 1.35L5.41 20z\"/>\n",
              "  </svg>\n",
              "      </button>\n",
              "      \n",
              "  <style>\n",
              "    .colab-df-container {\n",
              "      display:flex;\n",
              "      flex-wrap:wrap;\n",
              "      gap: 12px;\n",
              "    }\n",
              "\n",
              "    .colab-df-convert {\n",
              "      background-color: #E8F0FE;\n",
              "      border: none;\n",
              "      border-radius: 50%;\n",
              "      cursor: pointer;\n",
              "      display: none;\n",
              "      fill: #1967D2;\n",
              "      height: 32px;\n",
              "      padding: 0 0 0 0;\n",
              "      width: 32px;\n",
              "    }\n",
              "\n",
              "    .colab-df-convert:hover {\n",
              "      background-color: #E2EBFA;\n",
              "      box-shadow: 0px 1px 2px rgba(60, 64, 67, 0.3), 0px 1px 3px 1px rgba(60, 64, 67, 0.15);\n",
              "      fill: #174EA6;\n",
              "    }\n",
              "\n",
              "    [theme=dark] .colab-df-convert {\n",
              "      background-color: #3B4455;\n",
              "      fill: #D2E3FC;\n",
              "    }\n",
              "\n",
              "    [theme=dark] .colab-df-convert:hover {\n",
              "      background-color: #434B5C;\n",
              "      box-shadow: 0px 1px 3px 1px rgba(0, 0, 0, 0.15);\n",
              "      filter: drop-shadow(0px 1px 2px rgba(0, 0, 0, 0.3));\n",
              "      fill: #FFFFFF;\n",
              "    }\n",
              "  </style>\n",
              "\n",
              "      <script>\n",
              "        const buttonEl =\n",
              "          document.querySelector('#df-159fc1d9-2fb7-49ac-8030-cfead8f669f6 button.colab-df-convert');\n",
              "        buttonEl.style.display =\n",
              "          google.colab.kernel.accessAllowed ? 'block' : 'none';\n",
              "\n",
              "        async function convertToInteractive(key) {\n",
              "          const element = document.querySelector('#df-159fc1d9-2fb7-49ac-8030-cfead8f669f6');\n",
              "          const dataTable =\n",
              "            await google.colab.kernel.invokeFunction('convertToInteractive',\n",
              "                                                     [key], {});\n",
              "          if (!dataTable) return;\n",
              "\n",
              "          const docLinkHtml = 'Like what you see? Visit the ' +\n",
              "            '<a target=\"_blank\" href=https://colab.research.google.com/notebooks/data_table.ipynb>data table notebook</a>'\n",
              "            + ' to learn more about interactive tables.';\n",
              "          element.innerHTML = '';\n",
              "          dataTable['output_type'] = 'display_data';\n",
              "          await google.colab.output.renderOutput(dataTable, element);\n",
              "          const docLink = document.createElement('div');\n",
              "          docLink.innerHTML = docLinkHtml;\n",
              "          element.appendChild(docLink);\n",
              "        }\n",
              "      </script>\n",
              "    </div>\n",
              "  </div>\n",
              "  "
            ],
            "text/plain": [
              "             Date  USD (AM)  USD (PM)  GBP (AM)  GBP (PM)  EURO (AM)  EURO (PM)\n",
              "0      2021-12-29   1796.35   1794.25  1338.820   1331.33    1591.93    1581.27\n",
              "1      2021-12-23   1805.55   1805.20  1345.320   1346.50    1594.12    1595.98\n",
              "2      2021-12-22   1789.90   1792.80  1345.650   1344.78    1584.96    1584.66\n",
              "3      2021-12-21   1795.85   1793.75  1355.510   1354.64    1590.40    1591.42\n",
              "4      2021-12-20   1797.40   1796.30  1362.070   1358.54    1595.73    1590.26\n",
              "...           ...       ...       ...       ...       ...        ...        ...\n",
              "13642  1968-01-08     35.14       NaN    14.586       NaN        NaN        NaN\n",
              "13643  1968-01-05     35.14       NaN    14.597       NaN        NaN        NaN\n",
              "13644  1968-01-04     35.14       NaN    14.603       NaN        NaN        NaN\n",
              "13645  1968-01-03     35.16       NaN    14.617       NaN        NaN        NaN\n",
              "13646  1968-01-02     35.18       NaN    14.641       NaN        NaN        NaN\n",
              "\n",
              "[13647 rows x 7 columns]"
            ]
          },
          "metadata": {},
          "execution_count": 4
        }
      ]
    },
    {
      "cell_type": "code",
      "source": [
        "#Method 1:check missing value by heatmap\n",
        "cols = df.columns[:-1]\n",
        "colors = ['#1B054D','#D20F23'] # colors[not missing, missing]\n",
        "sns.heatmap(df[cols].isnull(),cmap=sns.color_palette(colors))"
      ],
      "metadata": {
        "colab": {
          "base_uri": "https://localhost:8080/",
          "height": 332
        },
        "id": "_hb6uWAATK6H",
        "outputId": "450f73a4-c7b3-41db-fab9-a8eb2be15e14"
      },
      "execution_count": 5,
      "outputs": [
        {
          "output_type": "execute_result",
          "data": {
            "text/plain": [
              "<matplotlib.axes._subplots.AxesSubplot at 0x7fee00823fd0>"
            ]
          },
          "metadata": {},
          "execution_count": 5
        },
        {
          "output_type": "display_data",
          "data": {
            "image/png": "[encoded data removed]",
            "text/plain": [
              "<Figure size 432x288 with 2 Axes>"
            ]
          },
          "metadata": {
            "needs_background": "light"
          }
        }
      ]
    },
    {
      "cell_type": "code",
      "source": [
        "# method 2 : Percentange list\n",
        "\n",
        "for col in df.columns:\n",
        "  pct_missing = np.mean(df[col].isnull())\n",
        "  print('{} - {}%'.format(col, round(pct_missing*100)))"
      ],
      "metadata": {
        "colab": {
          "base_uri": "https://localhost:8080/"
        },
        "id": "QqVAfgORaMkS",
        "outputId": "bb51e564-4cbb-46d1-801e-aee86106dbaf"
      },
      "execution_count": 6,
      "outputs": [
        {
          "output_type": "stream",
          "name": "stdout",
          "text": [
            "Date - 0%\n",
            "USD (AM) - 0%\n",
            "USD (PM) - 1%\n",
            "GBP (AM) - 0%\n",
            "GBP (PM) - 1%\n",
            "EURO (AM) - 57%\n",
            "EURO (PM) - 58%\n"
          ]
        }
      ]
    }
  ]
}